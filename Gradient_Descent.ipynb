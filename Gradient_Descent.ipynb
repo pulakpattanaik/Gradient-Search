{
  "nbformat": 4,
  "nbformat_minor": 0,
  "metadata": {
    "colab": {
      "name": "Gradient Descent.ipynb",
      "provenance": []
    },
    "kernelspec": {
      "name": "python3",
      "display_name": "Python 3"
    }
  },
  "cells": [
    {
      "cell_type": "code",
      "metadata": {
        "colab": {
          "base_uri": "https://localhost:8080/",
          "height": 197
        },
        "id": "TTZbWdOsIwdB",
        "outputId": "b057b214-17d2-4700-b2c0-abfef353d4ec"
      },
      "source": [
        "import pandas as pd\r\n",
        "import numpy as np\r\n",
        "\r\n",
        "import warnings\r\n",
        "warnings.filterwarnings('ignore')\r\n",
        "sales_df=pd.read_csv(\"Advertising.csv\")\r\n",
        "drop_list = [\"Unnamed: 0\"]\r\n",
        "\r\n",
        "sales_df = sales_df.drop(drop_list, axis=1)\r\n",
        "sales_df.head()"
      ],
      "execution_count": 98,
      "outputs": [
        {
          "output_type": "execute_result",
          "data": {
            "text/html": [
              "<div>\n",
              "<style scoped>\n",
              "    .dataframe tbody tr th:only-of-type {\n",
              "        vertical-align: middle;\n",
              "    }\n",
              "\n",
              "    .dataframe tbody tr th {\n",
              "        vertical-align: top;\n",
              "    }\n",
              "\n",
              "    .dataframe thead th {\n",
              "        text-align: right;\n",
              "    }\n",
              "</style>\n",
              "<table border=\"1\" class=\"dataframe\">\n",
              "  <thead>\n",
              "    <tr style=\"text-align: right;\">\n",
              "      <th></th>\n",
              "      <th>TV</th>\n",
              "      <th>Radio</th>\n",
              "      <th>Newspaper</th>\n",
              "      <th>Sales</th>\n",
              "    </tr>\n",
              "  </thead>\n",
              "  <tbody>\n",
              "    <tr>\n",
              "      <th>0</th>\n",
              "      <td>230.1</td>\n",
              "      <td>37.8</td>\n",
              "      <td>69.2</td>\n",
              "      <td>22.1</td>\n",
              "    </tr>\n",
              "    <tr>\n",
              "      <th>1</th>\n",
              "      <td>44.5</td>\n",
              "      <td>39.3</td>\n",
              "      <td>45.1</td>\n",
              "      <td>10.4</td>\n",
              "    </tr>\n",
              "    <tr>\n",
              "      <th>2</th>\n",
              "      <td>17.2</td>\n",
              "      <td>45.9</td>\n",
              "      <td>69.3</td>\n",
              "      <td>9.3</td>\n",
              "    </tr>\n",
              "    <tr>\n",
              "      <th>3</th>\n",
              "      <td>151.5</td>\n",
              "      <td>41.3</td>\n",
              "      <td>58.5</td>\n",
              "      <td>18.5</td>\n",
              "    </tr>\n",
              "    <tr>\n",
              "      <th>4</th>\n",
              "      <td>180.8</td>\n",
              "      <td>10.8</td>\n",
              "      <td>58.4</td>\n",
              "      <td>12.9</td>\n",
              "    </tr>\n",
              "  </tbody>\n",
              "</table>\n",
              "</div>"
            ],
            "text/plain": [
              "      TV  Radio  Newspaper  Sales\n",
              "0  230.1   37.8       69.2   22.1\n",
              "1   44.5   39.3       45.1   10.4\n",
              "2   17.2   45.9       69.3    9.3\n",
              "3  151.5   41.3       58.5   18.5\n",
              "4  180.8   10.8       58.4   12.9"
            ]
          },
          "metadata": {
            "tags": []
          },
          "execution_count": 98
        }
      ]
    },
    {
      "cell_type": "code",
      "metadata": {
        "id": "gC9-YifJUHY8"
      },
      "source": [
        "x=sales_df[['TV','Radio','Newspaper']]\r\n",
        "y=sales_df['Sales']"
      ],
      "execution_count": 99,
      "outputs": []
    },
    {
      "cell_type": "code",
      "metadata": {
        "id": "6yF1zrugUYck"
      },
      "source": [
        "#to standardize X nad Y features\r\n",
        "y=np.array((y-y.mean())/y.std())\r\n",
        "x=x.apply(lambda rec:(rec-rec.mean())/rec.std(),axis=0)"
      ],
      "execution_count": 100,
      "outputs": []
    },
    {
      "cell_type": "code",
      "metadata": {
        "colab": {
          "base_uri": "https://localhost:8080/"
        },
        "id": "ZM-z13e6kDR2",
        "outputId": "a96d02a2-f027-4508-fa8d-7c145d602b35"
      },
      "source": [
        "print(x)"
      ],
      "execution_count": 103,
      "outputs": [
        {
          "output_type": "stream",
          "text": [
            "           TV     Radio  Newspaper\n",
            "0    0.967425  0.979066   1.774493\n",
            "1   -1.194379  1.080097   0.667903\n",
            "2   -1.512360  1.524637   1.779084\n",
            "3    0.051919  1.214806   1.283185\n",
            "4    0.393196 -0.839507   1.278593\n",
            "..        ...       ...        ...\n",
            "195 -1.267759 -1.317724  -0.769287\n",
            "196 -0.615491 -1.236899  -1.031011\n",
            "197  0.348934 -0.940539  -1.109069\n",
            "198  1.590574  1.261955   1.636743\n",
            "199  0.990720 -0.987687  -1.003461\n",
            "\n",
            "[200 rows x 3 columns]\n"
          ],
          "name": "stdout"
        }
      ]
    },
    {
      "cell_type": "code",
      "metadata": {
        "id": "zUkrtw78Uyc_"
      },
      "source": [
        "#Implementing Gradient Descent Algorithm\r\n",
        "#Random Initialization of the Bias & Weights\r\n",
        "import random\r\n",
        "def Initialize(dim):\r\n",
        "  np.random.seed(seed=42)\r\n",
        "  #initializae the bias\r\n",
        "  b=random.random()\r\n",
        "  #Initalize the weights\r\n",
        "  w=np.random.rand(dim)\r\n",
        "\r\n",
        "  return b, w\r\n",
        "\r\n",
        "#dim is the number of weights to be initalized besides the bias."
      ],
      "execution_count": 104,
      "outputs": []
    },
    {
      "cell_type": "code",
      "metadata": {
        "colab": {
          "base_uri": "https://localhost:8080/"
        },
        "id": "HqIyRzY5WXlE",
        "outputId": "58e1cbb8-e2ef-47c1-cac4-10420e0d41f2"
      },
      "source": [
        "b, w = Initialize(3)\r\n",
        "print(\"Bias:\",b , \"weights:\", w)"
      ],
      "execution_count": 105,
      "outputs": [
        {
          "output_type": "stream",
          "text": [
            "Bias: 0.5891314677035052 weights: [0.37454012 0.95071431 0.73199394]\n"
          ],
          "name": "stdout"
        }
      ]
    },
    {
      "cell_type": "code",
      "metadata": {
        "id": "kRle7KA3WlOE"
      },
      "source": [
        "def predict_y( b, w, x):\r\n",
        "  return b + np.dot(x,w)\r\n"
      ],
      "execution_count": 130,
      "outputs": []
    },
    {
      "cell_type": "code",
      "metadata": {
        "colab": {
          "base_uri": "https://localhost:8080/"
        },
        "id": "rMnnJhmLgwnz",
        "outputId": "75b8472e-79d7-470b-8e11-eb232e5b5b88"
      },
      "source": [
        "x.shape\r\n",
        "w.shape"
      ],
      "execution_count": 131,
      "outputs": [
        {
          "output_type": "execute_result",
          "data": {
            "text/plain": [
              "(3,)"
            ]
          },
          "metadata": {
            "tags": []
          },
          "execution_count": 131
        }
      ]
    },
    {
      "cell_type": "code",
      "metadata": {
        "colab": {
          "base_uri": "https://localhost:8080/"
        },
        "id": "E30rFpO8cP13",
        "outputId": "a104d7bf-1604-453e-efb0-49447918e7c0"
      },
      "source": [
        "print(x.shape)"
      ],
      "execution_count": 132,
      "outputs": [
        {
          "output_type": "stream",
          "text": [
            "(200, 3)\n"
          ],
          "name": "stdout"
        }
      ]
    },
    {
      "cell_type": "code",
      "metadata": {
        "colab": {
          "base_uri": "https://localhost:8080/"
        },
        "id": "Og_txx1NaJ_0",
        "outputId": "e4550f9a-5989-4858-af31-63eb87e58d96"
      },
      "source": [
        "b, w = Initialize(3)\r\n",
        "y_hat=predict_y(b,w_t,x)\r\n",
        "y_hat[0:10]"
      ],
      "execution_count": 134,
      "outputs": [
        {
          "output_type": "execute_result",
          "data": {
            "text/plain": [
              "array([ 3.04836599,  1.52471914,  2.64163118,  2.56996068,  0.741356  ,\n",
              "        2.9882354 ,  0.43921441, -0.53248402, -2.49622458, -0.95115941])"
            ]
          },
          "metadata": {
            "tags": []
          },
          "execution_count": 134
        }
      ]
    },
    {
      "cell_type": "code",
      "metadata": {
        "id": "bSTP4_dJab99"
      },
      "source": [
        "#Calculating Mean Squared Error\r\n",
        "#Calculating Difference between Estimated & Actual\r\n",
        "import math\r\n",
        "def get_cost(y,y_hat):\r\n",
        "  y_resid=y-y_hat#Calculating the residuals i.e. difference between actual & predicted values.\r\n",
        "  #then take the sum and divide by number of examples to calculate the mean\r\n",
        "\r\n",
        "  return np.sum(np.matmul(y_resid,y_resid))/len(y_resid)\r\n"
      ],
      "execution_count": 138,
      "outputs": []
    },
    {
      "cell_type": "code",
      "metadata": {
        "colab": {
          "base_uri": "https://localhost:8080/"
        },
        "id": "nxJzveBHrz2H",
        "outputId": "8630f8f0-6e10-40ff-b975-c9e7a69da79c"
      },
      "source": [
        "b, w = Initialize(3)\r\n",
        "y_hat=predict_y(b,w_t,x)\r\n",
        "get_cost(y,y_hat)"
      ],
      "execution_count": 139,
      "outputs": [
        {
          "output_type": "execute_result",
          "data": {
            "text/plain": [
              "1.2497961641061708"
            ]
          },
          "metadata": {
            "tags": []
          },
          "execution_count": 139
        }
      ]
    },
    {
      "cell_type": "code",
      "metadata": {
        "id": "9kwaHB9csaIi"
      },
      "source": [
        "#Updating the bias & Weights\r\n",
        "def update_beta(x,y,y_hat,b_0,w_0,alpha):\r\n",
        "  #gradient of bias\r\n",
        "  db=(np.sum(y_hat-y)*2)/len(y)\r\n",
        "  # gradient of weights\r\n",
        "  dw=(np.dot((y_hat-y),x)*2)/len(y)\r\n",
        "\r\n",
        "  #update bias & weights\r\n",
        "  b_1=b_0-alpha*db\r\n",
        "  w_1=w_0-alpha*dw\r\n",
        "  return b_1,w_1\r\n"
      ],
      "execution_count": 147,
      "outputs": []
    },
    {
      "cell_type": "code",
      "metadata": {
        "colab": {
          "base_uri": "https://localhost:8080/"
        },
        "id": "CIKnYdWxu41F",
        "outputId": "32a76ffa-e073-4f5d-9234-ab294256dec0"
      },
      "source": [
        "b, w = Initialize(3)\r\n",
        "print(\"after initialization - Bias :\",b,\"weights:\",w)\r\n",
        "y_hat=predict_y(b,w_t,x)\r\n",
        "b,w = update_beta(x,y,y_hat,b,w,0.01)\r\n",
        "print(\"After update Bias :\",b,\"Weights :\",w)"
      ],
      "execution_count": 148,
      "outputs": [
        {
          "output_type": "stream",
          "text": [
            "after initialization - Bias : 0.3537401053512337 weights: [0.37454012 0.95071431 0.73199394]\n",
            "After update Bias : 0.346665303244209 Weights : [0.38079093 0.9376953  0.71484883]\n"
          ],
          "name": "stdout"
        }
      ]
    },
    {
      "cell_type": "code",
      "metadata": {
        "id": "8lcHZdssvcD3"
      },
      "source": [
        "# Finding the Optiimal Bias & Weights\r\n",
        "# This can be done iteratively untill the cost is minimum & it can take several iterations and it is time consuming.\r\n",
        "# by running a fixed number of iterations and use the bias and weights as optimal values at the end\r\n",
        "# Run iterations untill the change in cost is small, that is , less than a predefined valye(0.001)\r\n",
        "\r\n",
        "def run_gradient_descent(x,y,alpha=0.01,num_iterations=500):\r\n",
        "  #initalize the bias & weights\r\n",
        "  b,w =Initialize(x.shape[1])\r\n",
        "  iter_num=0\r\n",
        "  # gd_iterations keeps track of the cost every 10 iterations\r\n",
        "  gd_iterations_df=pd.DataFrame(columns=['iterations','cost'])\r\n",
        "  result_idx=0\r\n",
        "  #Run the iteration in for loop\r\n",
        "  for each_iter in range(num_iterations):\r\n",
        "    # calculate the predicted value of Y\r\n",
        "    y_hat=predict_y(b,w,x)\r\n",
        "    #calculate the cost\r\n",
        "    this_cost=get_cost(y,y_hat)\r\n",
        "    #Save the Previous bias and weights\r\n",
        "    prev_b=b\r\n",
        "    prev_w=w\r\n",
        "    #update and calculate the new values of bias and weights\r\n",
        "    b,w = update_beta(x,y,y_hat,prev_b,prev_w,alpha)\r\n",
        "\r\n",
        "    # for every 10 iterations store the cost i.e. MSE\r\n",
        "    if (iter_num % 10 == 0):\r\n",
        "      gd_iterations_df.loc[result_idx]=[iter_num,this_cost]\r\n",
        "      result_idx+=1\r\n",
        "    iter_num+=1\r\n",
        "  print(\"Final estimate of b and w :\", b,w)\r\n",
        "  #return the final bias, weights and the cost at the end\r\n",
        "  return gd_iterations_df,b,w\r\n",
        "\r\n"
      ],
      "execution_count": 163,
      "outputs": []
    },
    {
      "cell_type": "code",
      "metadata": {
        "colab": {
          "base_uri": "https://localhost:8080/"
        },
        "id": "k2i4hP7f4Oij",
        "outputId": "0a577ee9-ab26-449f-e544-29e24de62a05"
      },
      "source": [
        "gd_iterations_df,b,w=run_gradient_descent(x,y,alpha=0.001,num_iterations=100)"
      ],
      "execution_count": 164,
      "outputs": [
        {
          "output_type": "stream",
          "text": [
            "Final estimate of b and w : 0.22217863819660313 [0.43270098 0.83742681 0.5799534 ]\n"
          ],
          "name": "stdout"
        }
      ]
    },
    {
      "cell_type": "code",
      "metadata": {
        "colab": {
          "base_uri": "https://localhost:8080/",
          "height": 347
        },
        "id": "-Stzzl6K4ZqF",
        "outputId": "fcbb5c4e-344b-4249-965c-7d8abd45401d"
      },
      "source": [
        "gd_iterations_df[0:10]"
      ],
      "execution_count": 165,
      "outputs": [
        {
          "output_type": "execute_result",
          "data": {
            "text/html": [
              "<div>\n",
              "<style scoped>\n",
              "    .dataframe tbody tr th:only-of-type {\n",
              "        vertical-align: middle;\n",
              "    }\n",
              "\n",
              "    .dataframe tbody tr th {\n",
              "        vertical-align: top;\n",
              "    }\n",
              "\n",
              "    .dataframe thead th {\n",
              "        text-align: right;\n",
              "    }\n",
              "</style>\n",
              "<table border=\"1\" class=\"dataframe\">\n",
              "  <thead>\n",
              "    <tr style=\"text-align: right;\">\n",
              "      <th></th>\n",
              "      <th>iterations</th>\n",
              "      <th>cost</th>\n",
              "    </tr>\n",
              "  </thead>\n",
              "  <tbody>\n",
              "    <tr>\n",
              "      <th>0</th>\n",
              "      <td>0.0</td>\n",
              "      <td>1.195114</td>\n",
              "    </tr>\n",
              "    <tr>\n",
              "      <th>1</th>\n",
              "      <td>10.0</td>\n",
              "      <td>1.143161</td>\n",
              "    </tr>\n",
              "    <tr>\n",
              "      <th>2</th>\n",
              "      <td>20.0</td>\n",
              "      <td>1.093745</td>\n",
              "    </tr>\n",
              "    <tr>\n",
              "      <th>3</th>\n",
              "      <td>30.0</td>\n",
              "      <td>1.046740</td>\n",
              "    </tr>\n",
              "    <tr>\n",
              "      <th>4</th>\n",
              "      <td>40.0</td>\n",
              "      <td>1.002026</td>\n",
              "    </tr>\n",
              "    <tr>\n",
              "      <th>5</th>\n",
              "      <td>50.0</td>\n",
              "      <td>0.959488</td>\n",
              "    </tr>\n",
              "    <tr>\n",
              "      <th>6</th>\n",
              "      <td>60.0</td>\n",
              "      <td>0.919019</td>\n",
              "    </tr>\n",
              "    <tr>\n",
              "      <th>7</th>\n",
              "      <td>70.0</td>\n",
              "      <td>0.880515</td>\n",
              "    </tr>\n",
              "    <tr>\n",
              "      <th>8</th>\n",
              "      <td>80.0</td>\n",
              "      <td>0.843879</td>\n",
              "    </tr>\n",
              "    <tr>\n",
              "      <th>9</th>\n",
              "      <td>90.0</td>\n",
              "      <td>0.809019</td>\n",
              "    </tr>\n",
              "  </tbody>\n",
              "</table>\n",
              "</div>"
            ],
            "text/plain": [
              "   iterations      cost\n",
              "0         0.0  1.195114\n",
              "1        10.0  1.143161\n",
              "2        20.0  1.093745\n",
              "3        30.0  1.046740\n",
              "4        40.0  1.002026\n",
              "5        50.0  0.959488\n",
              "6        60.0  0.919019\n",
              "7        70.0  0.880515\n",
              "8        80.0  0.843879\n",
              "9        90.0  0.809019"
            ]
          },
          "metadata": {
            "tags": []
          },
          "execution_count": 165
        }
      ]
    },
    {
      "cell_type": "code",
      "metadata": {
        "id": "XHlvY5244ieH"
      },
      "source": [
        "import matplotlib.pyplot as plt\r\n",
        "import seaborn as sn\r\n",
        "%matplotlib inline\r\n"
      ],
      "execution_count": 166,
      "outputs": []
    },
    {
      "cell_type": "code",
      "metadata": {
        "colab": {
          "base_uri": "https://localhost:8080/",
          "height": 296
        },
        "id": "MlUhw1Wr5Aum",
        "outputId": "81a090b1-5e63-4d92-a15c-904aeef7ebad"
      },
      "source": [
        "plt.plot(gd_iterations_df['iterations'],gd_iterations_df['cost']);\r\n",
        "plt.xlabel(\"Number of Iterations\")\r\n",
        "plt.ylabel(\"cost of MSE\")"
      ],
      "execution_count": 174,
      "outputs": [
        {
          "output_type": "execute_result",
          "data": {
            "text/plain": [
              "Text(0, 0.5, 'cost of MSE')"
            ]
          },
          "metadata": {
            "tags": []
          },
          "execution_count": 174
        },
        {
          "output_type": "display_data",
          "data": {
            "image/png": "[encoded data removed]",
            "text/plain": [
              "<Figure size 432x288 with 1 Axes>"
            ]
          },
          "metadata": {
            "tags": [],
            "needs_background": "light"
          }
        }
      ]
    },
    {
      "cell_type": "code",
      "metadata": {
        "colab": {
          "base_uri": "https://localhost:8080/"
        },
        "id": "MwSOGOCbZigF",
        "outputId": "6b695c81-135c-4629-8ec2-0b58f210c571"
      },
      "source": [
        "print(\"final estimates of b and w :\",b , w)"
      ],
      "execution_count": 168,
      "outputs": [
        {
          "output_type": "stream",
          "text": [
            "final estimates of b and w : 0.22217863819660313 [0.43270098 0.83742681 0.5799534 ]\n"
          ],
          "name": "stdout"
        }
      ]
    },
    {
      "cell_type": "code",
      "metadata": {
        "colab": {
          "base_uri": "https://localhost:8080/"
        },
        "id": "5cpWfhA6Zz-c",
        "outputId": "aef1556a-ac5e-4b5f-99d1-d611c494c635"
      },
      "source": [
        "alpha_df_1,b,w=run_gradient_descent(x,y,alpha=0.01,num_iterations=2000)\r\n",
        "alpha_df_2,b,w=run_gradient_descent(x,y,alpha=0.001,num_iterations=2000)"
      ],
      "execution_count": 169,
      "outputs": [
        {
          "output_type": "stream",
          "text": [
            "Final estimate of b and w : 2.777201673495839e-16 [ 0.75306591  0.53648155 -0.00433069]\n",
            "Final estimate of b and w : 0.018058838933296753 [0.74315125 0.52779959 0.01171703]\n"
          ],
          "name": "stdout"
        }
      ]
    },
    {
      "cell_type": "code",
      "metadata": {
        "colab": {
          "base_uri": "https://localhost:8080/",
          "height": 312
        },
        "id": "W5lR8eoSavL0",
        "outputId": "37ad17bf-78ad-4b62-9d0b-fc8e40c73519"
      },
      "source": [
        "plt.plot(alpha_df_1['iterations'],alpha_df_1['cost'],label=\"0.01\")\r\n",
        "plt.plot(alpha_df_2['iterations'],alpha_df_2['cost'],label=\"0.001\")\r\n",
        "plt.legend()\r\n",
        "plt.ylabel('cost')\r\n",
        "plt.xlabel(\"No of iterations\")\r\n",
        "plt.title(\"cost vs Iterations for different alpha values\")"
      ],
      "execution_count": 173,
      "outputs": [
        {
          "output_type": "execute_result",
          "data": {
            "text/plain": [
              "Text(0.5, 1.0, 'cost vs Iterations for different alpha values')"
            ]
          },
          "metadata": {
            "tags": []
          },
          "execution_count": 173
        },
        {
          "output_type": "display_data",
          "data": {
            "image/png": "[encoded data removed]",
            "text/plain": [
              "<Figure size 432x288 with 1 Axes>"
            ]
          },
          "metadata": {
            "tags": [],
            "needs_background": "light"
          }
        }
      ]
    },
    {
      "cell_type": "code",
      "metadata": {
        "id": "xKI129OKbIC4"
      },
      "source": [
        ""
      ],
      "execution_count": null,
      "outputs": []
    }
  ]
}